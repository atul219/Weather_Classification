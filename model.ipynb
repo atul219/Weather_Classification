{
  "nbformat": 4,
  "nbformat_minor": 0,
  "metadata": {
    "colab": {
      "name": "Untitled3.ipynb",
      "provenance": []
    },
    "kernelspec": {
      "name": "python3",
      "display_name": "Python 3"
    },
    "accelerator": "GPU",
    "widgets": {
      "application/vnd.jupyter.widget-state+json": {
        "e90a700ceea543aaa2baf75badc4241a": {
          "model_module": "@jupyter-widgets/controls",
          "model_name": "HBoxModel",
          "state": {
            "_view_name": "HBoxView",
            "_dom_classes": [],
            "_model_name": "HBoxModel",
            "_view_module": "@jupyter-widgets/controls",
            "_model_module_version": "1.5.0",
            "_view_count": null,
            "_view_module_version": "1.5.0",
            "box_style": "",
            "layout": "IPY_MODEL_94612301fa544d6ebffb28dc472fa432",
            "_model_module": "@jupyter-widgets/controls",
            "children": [
              "IPY_MODEL_697b93530658471abceb226d23b28db8",
              "IPY_MODEL_00a3f72e8d164b949c987e40487ea402"
            ]
          }
        },
        "94612301fa544d6ebffb28dc472fa432": {
          "model_module": "@jupyter-widgets/base",
          "model_name": "LayoutModel",
          "state": {
            "_view_name": "LayoutView",
            "grid_template_rows": null,
            "right": null,
            "justify_content": null,
            "_view_module": "@jupyter-widgets/base",
            "overflow": null,
            "_model_module_version": "1.2.0",
            "_view_count": null,
            "flex_flow": null,
            "width": null,
            "min_width": null,
            "border": null,
            "align_items": null,
            "bottom": null,
            "_model_module": "@jupyter-widgets/base",
            "top": null,
            "grid_column": null,
            "overflow_y": null,
            "overflow_x": null,
            "grid_auto_flow": null,
            "grid_area": null,
            "grid_template_columns": null,
            "flex": null,
            "_model_name": "LayoutModel",
            "justify_items": null,
            "grid_row": null,
            "max_height": null,
            "align_content": null,
            "visibility": null,
            "align_self": null,
            "height": null,
            "min_height": null,
            "padding": null,
            "grid_auto_rows": null,
            "grid_gap": null,
            "max_width": null,
            "order": null,
            "_view_module_version": "1.2.0",
            "grid_template_areas": null,
            "object_position": null,
            "object_fit": null,
            "grid_auto_columns": null,
            "margin": null,
            "display": null,
            "left": null
          }
        },
        "697b93530658471abceb226d23b28db8": {
          "model_module": "@jupyter-widgets/controls",
          "model_name": "IntProgressModel",
          "state": {
            "_view_name": "ProgressView",
            "style": "IPY_MODEL_2040fb614a5546b1aa6a100a50f0860a",
            "_dom_classes": [],
            "description": "100%",
            "_model_name": "IntProgressModel",
            "bar_style": "success",
            "max": 553433881,
            "_view_module": "@jupyter-widgets/controls",
            "_model_module_version": "1.5.0",
            "value": 553433881,
            "_view_count": null,
            "_view_module_version": "1.5.0",
            "orientation": "horizontal",
            "min": 0,
            "description_tooltip": null,
            "_model_module": "@jupyter-widgets/controls",
            "layout": "IPY_MODEL_fcb34991e41f40219596aa078589884a"
          }
        },
        "00a3f72e8d164b949c987e40487ea402": {
          "model_module": "@jupyter-widgets/controls",
          "model_name": "HTMLModel",
          "state": {
            "_view_name": "HTMLView",
            "style": "IPY_MODEL_57c3d488adff46589506ad08f5ca1e90",
            "_dom_classes": [],
            "description": "",
            "_model_name": "HTMLModel",
            "placeholder": "​",
            "_view_module": "@jupyter-widgets/controls",
            "_model_module_version": "1.5.0",
            "value": " 528M/528M [2:19:49&lt;00:00, 66.0kB/s]",
            "_view_count": null,
            "_view_module_version": "1.5.0",
            "description_tooltip": null,
            "_model_module": "@jupyter-widgets/controls",
            "layout": "IPY_MODEL_0dbd43e4b7d84a9e9e272f650f12eb0a"
          }
        },
        "2040fb614a5546b1aa6a100a50f0860a": {
          "model_module": "@jupyter-widgets/controls",
          "model_name": "ProgressStyleModel",
          "state": {
            "_view_name": "StyleView",
            "_model_name": "ProgressStyleModel",
            "description_width": "initial",
            "_view_module": "@jupyter-widgets/base",
            "_model_module_version": "1.5.0",
            "_view_count": null,
            "_view_module_version": "1.2.0",
            "bar_color": null,
            "_model_module": "@jupyter-widgets/controls"
          }
        },
        "fcb34991e41f40219596aa078589884a": {
          "model_module": "@jupyter-widgets/base",
          "model_name": "LayoutModel",
          "state": {
            "_view_name": "LayoutView",
            "grid_template_rows": null,
            "right": null,
            "justify_content": null,
            "_view_module": "@jupyter-widgets/base",
            "overflow": null,
            "_model_module_version": "1.2.0",
            "_view_count": null,
            "flex_flow": null,
            "width": null,
            "min_width": null,
            "border": null,
            "align_items": null,
            "bottom": null,
            "_model_module": "@jupyter-widgets/base",
            "top": null,
            "grid_column": null,
            "overflow_y": null,
            "overflow_x": null,
            "grid_auto_flow": null,
            "grid_area": null,
            "grid_template_columns": null,
            "flex": null,
            "_model_name": "LayoutModel",
            "justify_items": null,
            "grid_row": null,
            "max_height": null,
            "align_content": null,
            "visibility": null,
            "align_self": null,
            "height": null,
            "min_height": null,
            "padding": null,
            "grid_auto_rows": null,
            "grid_gap": null,
            "max_width": null,
            "order": null,
            "_view_module_version": "1.2.0",
            "grid_template_areas": null,
            "object_position": null,
            "object_fit": null,
            "grid_auto_columns": null,
            "margin": null,
            "display": null,
            "left": null
          }
        },
        "57c3d488adff46589506ad08f5ca1e90": {
          "model_module": "@jupyter-widgets/controls",
          "model_name": "DescriptionStyleModel",
          "state": {
            "_view_name": "StyleView",
            "_model_name": "DescriptionStyleModel",
            "description_width": "",
            "_view_module": "@jupyter-widgets/base",
            "_model_module_version": "1.5.0",
            "_view_count": null,
            "_view_module_version": "1.2.0",
            "_model_module": "@jupyter-widgets/controls"
          }
        },
        "0dbd43e4b7d84a9e9e272f650f12eb0a": {
          "model_module": "@jupyter-widgets/base",
          "model_name": "LayoutModel",
          "state": {
            "_view_name": "LayoutView",
            "grid_template_rows": null,
            "right": null,
            "justify_content": null,
            "_view_module": "@jupyter-widgets/base",
            "overflow": null,
            "_model_module_version": "1.2.0",
            "_view_count": null,
            "flex_flow": null,
            "width": null,
            "min_width": null,
            "border": null,
            "align_items": null,
            "bottom": null,
            "_model_module": "@jupyter-widgets/base",
            "top": null,
            "grid_column": null,
            "overflow_y": null,
            "overflow_x": null,
            "grid_auto_flow": null,
            "grid_area": null,
            "grid_template_columns": null,
            "flex": null,
            "_model_name": "LayoutModel",
            "justify_items": null,
            "grid_row": null,
            "max_height": null,
            "align_content": null,
            "visibility": null,
            "align_self": null,
            "height": null,
            "min_height": null,
            "padding": null,
            "grid_auto_rows": null,
            "grid_gap": null,
            "max_width": null,
            "order": null,
            "_view_module_version": "1.2.0",
            "grid_template_areas": null,
            "object_position": null,
            "object_fit": null,
            "grid_auto_columns": null,
            "margin": null,
            "display": null,
            "left": null
          }
        }
      }
    }
  },
  "cells": [
    {
      "cell_type": "code",
      "metadata": {
        "id": "LzQVQGif32O9",
        "colab_type": "code",
        "colab": {}
      },
      "source": [
        "import torch\n",
        "from torch import nn, optim\n",
        "from torchvision import datasets, transforms, models\n",
        "from torch.utils.data.sampler import SubsetRandomSampler\n",
        "import torch.nn.functional as F\n",
        "import matplotlib.pyplot as plt\n",
        "import numpy as np\n",
        "import argparse\n",
        "import cv2\n",
        "import os"
      ],
      "execution_count": 0,
      "outputs": []
    },
    {
      "cell_type": "code",
      "metadata": {
        "id": "RQoOD1964qjG",
        "colab_type": "code",
        "colab": {
          "base_uri": "https://localhost:8080/",
          "height": 34
        },
        "outputId": "86914e67-572b-45e1-c1d2-ec7fd58d6c12"
      },
      "source": [
        "# check if gpu is available or not\n",
        "\n",
        "train_on_gpu = torch.cuda.is_available()\n",
        "\n",
        "if not train_on_gpu:\n",
        "\tprint(\"[INFO] Training on CPU.......\")\n",
        "\n",
        "else:\n",
        "\tprint(\"[INFO] Training on GPU.......\")\n"
      ],
      "execution_count": 2,
      "outputs": [
        {
          "output_type": "stream",
          "text": [
            "[INFO] Training on GPU.......\n"
          ],
          "name": "stdout"
        }
      ]
    },
    {
      "cell_type": "code",
      "metadata": {
        "id": "yibdeayK4rvr",
        "colab_type": "code",
        "colab": {}
      },
      "source": [
        "def display(train_data):\n",
        "\n",
        "  images , labels = next(iter(train_loader))\n",
        "\n",
        "  images.numpy()\n",
        "\n",
        "  fig = plt.figure(figsize = (25,4))\n",
        "  for idx in np.arange(20):\n",
        "    ax = fig.add_subplot(2 , 10,  idx + 1, xticks = [], yticks = [])\n",
        "    plt.imshow(np.transpose(images[idx], (1,2,0)))\n",
        "    print(ax.set_title(classes[labels[idx]]))\n",
        "      \n",
        "\n",
        "\n",
        "\n"
      ],
      "execution_count": 0,
      "outputs": []
    },
    {
      "cell_type": "code",
      "metadata": {
        "id": "QFXC7-hkM_-T",
        "colab_type": "code",
        "colab": {}
      },
      "source": [
        "data_dir = \"drive/My Drive/dataset/train/\"\n",
        "\n",
        "# labels\n",
        "classes = [\"cloudy\", \"foggy\", \"rainy\", \"shine\", \"sunrise\"]\n"
      ],
      "execution_count": 0,
      "outputs": []
    },
    {
      "cell_type": "code",
      "metadata": {
        "id": "_rigIGzZ4ujP",
        "colab_type": "code",
        "colab": {}
      },
      "source": [
        "\n",
        "# transforms \n",
        "train_transform = transforms.Compose([transforms.RandomResizedCrop(224),\n",
        "                                      transforms.RandomHorizontalFlip(),\n",
        "\t\t\t\t\t\t\t\t\t                    transforms.ToTensor(),\n",
        "                                      transforms.Normalize((0.5, 0.5, 0.5), (0.5, 0.5, 0.5))])\t\n",
        "\n",
        "\n",
        "\n",
        "\n",
        "valid_size = 0.2\n",
        "\n",
        "\n",
        "\n",
        "\n",
        "# laoding dataset from directory\n",
        "train_data = datasets.ImageFolder(data_dir, transform = train_transform )\n",
        "\n",
        "\n",
        "\n",
        "num_train = len(train_data)\t\n",
        "idx = list(range(num_train))\t\n",
        "np.random.shuffle(idx)\n",
        "\n",
        "split = int(np.floor(valid_size * num_train))\n",
        "train_idx , valid_idx = idx[split:] , idx[:split]\n",
        "\n",
        "train_sampler = SubsetRandomSampler(train_idx)\n",
        "valid_sampler = SubsetRandomSampler(valid_idx)\n",
        "\n",
        "\n",
        "\n",
        "\n",
        "# train loader\n",
        "train_loader = torch.utils.data.DataLoader(train_data , batch_size = 32 , sampler= train_sampler)\n",
        "\n",
        "valid_loader = torch.utils.data.DataLoader(train_data , batch_size = 32 ,  sampler = valid_sampler)\n",
        "\n",
        "\n"
      ],
      "execution_count": 0,
      "outputs": []
    },
    {
      "cell_type": "code",
      "metadata": {
        "id": "RJjqfAZzCRsS",
        "colab_type": "code",
        "colab": {
          "base_uri": "https://localhost:8080/",
          "height": 207
        },
        "outputId": "19d34570-7bf3-4bf0-b4a9-0a17c1e6d56f"
      },
      "source": [
        "train_data"
      ],
      "execution_count": 6,
      "outputs": [
        {
          "output_type": "execute_result",
          "data": {
            "text/plain": [
              "Dataset ImageFolder\n",
              "    Number of datapoints: 1500\n",
              "    Root location: drive/My Drive/dataset/train/\n",
              "    StandardTransform\n",
              "Transform: Compose(\n",
              "               RandomResizedCrop(size=(224, 224), scale=(0.08, 1.0), ratio=(0.75, 1.3333), interpolation=PIL.Image.BILINEAR)\n",
              "               RandomHorizontalFlip(p=0.5)\n",
              "               ToTensor()\n",
              "               Normalize(mean=(0.5, 0.5, 0.5), std=(0.5, 0.5, 0.5))\n",
              "           )"
            ]
          },
          "metadata": {
            "tags": []
          },
          "execution_count": 6
        }
      ]
    },
    {
      "cell_type": "code",
      "metadata": {
        "id": "Kyb2E7Zs46rA",
        "colab_type": "code",
        "colab": {
          "base_uri": "https://localhost:8080/",
          "height": 68
        },
        "outputId": "3d9b292a-3221-462d-d163-8a74b46d774d"
      },
      "source": [
        "t_img , t_label = next(iter(train_loader))\n",
        "v_img , v_label = next(iter(valid_loader))\n",
        "\n",
        "print(\"[INFO] Training data length.......: {}\".format(len(train_data)))\n",
        "t_label"
      ],
      "execution_count": 7,
      "outputs": [
        {
          "output_type": "stream",
          "text": [
            "[INFO] Training data length.......: 1500\n"
          ],
          "name": "stdout"
        },
        {
          "output_type": "execute_result",
          "data": {
            "text/plain": [
              "tensor([0, 4, 4, 0, 4, 4, 0, 3, 4, 4, 4, 0, 1, 4, 1, 4, 4, 3, 1, 1, 4, 0, 2, 2,\n",
              "        1, 0, 4, 0, 2, 1, 3, 0])"
            ]
          },
          "metadata": {
            "tags": []
          },
          "execution_count": 7
        }
      ]
    },
    {
      "cell_type": "code",
      "metadata": {
        "id": "ZDdcOHGh5_RG",
        "colab_type": "code",
        "colab": {
          "base_uri": "https://localhost:8080/",
          "height": 848,
          "referenced_widgets": [
            "e90a700ceea543aaa2baf75badc4241a",
            "94612301fa544d6ebffb28dc472fa432",
            "697b93530658471abceb226d23b28db8",
            "00a3f72e8d164b949c987e40487ea402",
            "2040fb614a5546b1aa6a100a50f0860a",
            "fcb34991e41f40219596aa078589884a",
            "57c3d488adff46589506ad08f5ca1e90",
            "0dbd43e4b7d84a9e9e272f650f12eb0a"
          ]
        },
        "outputId": "b54d1d76-1669-4742-c7c0-f97dab95d0af"
      },
      "source": [
        "# load the pretrained model\n",
        "\n",
        "vgg = models.vgg16(pretrained = True)\n",
        "\n",
        "vgg"
      ],
      "execution_count": 8,
      "outputs": [
        {
          "output_type": "stream",
          "text": [
            "Downloading: \"https://download.pytorch.org/models/vgg16-397923af.pth\" to /root/.cache/torch/checkpoints/vgg16-397923af.pth\n"
          ],
          "name": "stderr"
        },
        {
          "output_type": "display_data",
          "data": {
            "application/vnd.jupyter.widget-view+json": {
              "model_id": "e90a700ceea543aaa2baf75badc4241a",
              "version_minor": 0,
              "version_major": 2
            },
            "text/plain": [
              "HBox(children=(IntProgress(value=0, max=553433881), HTML(value='')))"
            ]
          },
          "metadata": {
            "tags": []
          }
        },
        {
          "output_type": "stream",
          "text": [
            "\n"
          ],
          "name": "stdout"
        },
        {
          "output_type": "execute_result",
          "data": {
            "text/plain": [
              "VGG(\n",
              "  (features): Sequential(\n",
              "    (0): Conv2d(3, 64, kernel_size=(3, 3), stride=(1, 1), padding=(1, 1))\n",
              "    (1): ReLU(inplace=True)\n",
              "    (2): Conv2d(64, 64, kernel_size=(3, 3), stride=(1, 1), padding=(1, 1))\n",
              "    (3): ReLU(inplace=True)\n",
              "    (4): MaxPool2d(kernel_size=2, stride=2, padding=0, dilation=1, ceil_mode=False)\n",
              "    (5): Conv2d(64, 128, kernel_size=(3, 3), stride=(1, 1), padding=(1, 1))\n",
              "    (6): ReLU(inplace=True)\n",
              "    (7): Conv2d(128, 128, kernel_size=(3, 3), stride=(1, 1), padding=(1, 1))\n",
              "    (8): ReLU(inplace=True)\n",
              "    (9): MaxPool2d(kernel_size=2, stride=2, padding=0, dilation=1, ceil_mode=False)\n",
              "    (10): Conv2d(128, 256, kernel_size=(3, 3), stride=(1, 1), padding=(1, 1))\n",
              "    (11): ReLU(inplace=True)\n",
              "    (12): Conv2d(256, 256, kernel_size=(3, 3), stride=(1, 1), padding=(1, 1))\n",
              "    (13): ReLU(inplace=True)\n",
              "    (14): Conv2d(256, 256, kernel_size=(3, 3), stride=(1, 1), padding=(1, 1))\n",
              "    (15): ReLU(inplace=True)\n",
              "    (16): MaxPool2d(kernel_size=2, stride=2, padding=0, dilation=1, ceil_mode=False)\n",
              "    (17): Conv2d(256, 512, kernel_size=(3, 3), stride=(1, 1), padding=(1, 1))\n",
              "    (18): ReLU(inplace=True)\n",
              "    (19): Conv2d(512, 512, kernel_size=(3, 3), stride=(1, 1), padding=(1, 1))\n",
              "    (20): ReLU(inplace=True)\n",
              "    (21): Conv2d(512, 512, kernel_size=(3, 3), stride=(1, 1), padding=(1, 1))\n",
              "    (22): ReLU(inplace=True)\n",
              "    (23): MaxPool2d(kernel_size=2, stride=2, padding=0, dilation=1, ceil_mode=False)\n",
              "    (24): Conv2d(512, 512, kernel_size=(3, 3), stride=(1, 1), padding=(1, 1))\n",
              "    (25): ReLU(inplace=True)\n",
              "    (26): Conv2d(512, 512, kernel_size=(3, 3), stride=(1, 1), padding=(1, 1))\n",
              "    (27): ReLU(inplace=True)\n",
              "    (28): Conv2d(512, 512, kernel_size=(3, 3), stride=(1, 1), padding=(1, 1))\n",
              "    (29): ReLU(inplace=True)\n",
              "    (30): MaxPool2d(kernel_size=2, stride=2, padding=0, dilation=1, ceil_mode=False)\n",
              "  )\n",
              "  (avgpool): AdaptiveAvgPool2d(output_size=(7, 7))\n",
              "  (classifier): Sequential(\n",
              "    (0): Linear(in_features=25088, out_features=4096, bias=True)\n",
              "    (1): ReLU(inplace=True)\n",
              "    (2): Dropout(p=0.5, inplace=False)\n",
              "    (3): Linear(in_features=4096, out_features=4096, bias=True)\n",
              "    (4): ReLU(inplace=True)\n",
              "    (5): Dropout(p=0.5, inplace=False)\n",
              "    (6): Linear(in_features=4096, out_features=1000, bias=True)\n",
              "  )\n",
              ")"
            ]
          },
          "metadata": {
            "tags": []
          },
          "execution_count": 8
        }
      ]
    },
    {
      "cell_type": "code",
      "metadata": {
        "id": "MRF8oiRX8kSD",
        "colab_type": "code",
        "colab": {}
      },
      "source": [
        "# if train_on_gpu:\n",
        "#   print(\"CUDA\")\n",
        "#   vgg.cuda()"
      ],
      "execution_count": 0,
      "outputs": []
    },
    {
      "cell_type": "code",
      "metadata": {
        "id": "rRXujxZb5_th",
        "colab_type": "code",
        "colab": {}
      },
      "source": [
        "# freeze all parameters of network except classifier\n",
        "for param in vgg.features.parameters():\n",
        "\tparam.requires_grad = False"
      ],
      "execution_count": 0,
      "outputs": []
    },
    {
      "cell_type": "code",
      "metadata": {
        "id": "Q63Lde9Q6ABP",
        "colab_type": "code",
        "colab": {}
      },
      "source": [
        "in_features = 25088"
      ],
      "execution_count": 0,
      "outputs": []
    },
    {
      "cell_type": "code",
      "metadata": {
        "id": "Udp7DwaR6ARi",
        "colab_type": "code",
        "colab": {}
      },
      "source": [
        "classifier = nn.Sequential(nn.Linear(in_features , 512),\n",
        "\t\t\t\t\t\t\tnn.ReLU(),\n",
        "\t\t\t\t\t\t\tnn.Linear(512 , 5))\n",
        "\n",
        "vgg.classifier = classifier"
      ],
      "execution_count": 0,
      "outputs": []
    },
    {
      "cell_type": "code",
      "metadata": {
        "id": "gD9G0dLlVmcQ",
        "colab_type": "code",
        "colab": {
          "base_uri": "https://localhost:8080/",
          "height": 816
        },
        "outputId": "5bdb067a-3a5e-46a4-ecd5-f28edea0d5af"
      },
      "source": [
        "criterion = nn.CrossEntropyLoss()\n",
        "optimizer = optim.SGD(vgg.classifier.parameters() , lr = 0.01)\n",
        "\n",
        "n_epochs = 4\n",
        "total_train_loss, total_valid_loss = [], []\n",
        "step = 0\n",
        "accuracy = []\n",
        "valid_loss_min = np.Inf\n",
        "\n",
        "for e in range(n_epochs + 1):\n",
        "\n",
        "  train_loss = 0\n",
        "  valid_loss = 0\n",
        "\n",
        "  vgg.train()\n",
        "  for images, labels in train_loader:\n",
        "\n",
        "\n",
        "    # if train_on_gpu:\n",
        "    #   images , labels = images.cuda(), labels.cuda()\n",
        "\n",
        "    optimizer.zero_grad()\n",
        "\n",
        "    output = vgg(images)\n",
        "\n",
        "    loss = criterion(output , labels)\n",
        "\n",
        "    loss.backward()\n",
        "\n",
        "    optimizer.step()\n",
        "\n",
        "    train_loss += loss.item()*images.size(0)\n",
        "\n",
        "    if step % 5 == 0:\n",
        "      print(\"Step {}  \\tTraining Loss: {:.4f}\".format(step , train_loss))\n",
        "\n",
        "    \n",
        "\n",
        "    step += 1\n",
        "\n",
        "\n",
        "  vgg.eval()\n",
        "  for images, labels in valid_loader:\n",
        "\n",
        "    optimizer.zero_grad()\n",
        "\n",
        "    output = vgg(images)\n",
        "\n",
        "    loss = criterion(output , labels)\n",
        "\n",
        "\n",
        "    valid_loss += loss.item()*images.size(0)\n",
        "\n",
        "   \n",
        "  train_loss = train_loss / len(train_loader.sampler)\n",
        "  valid_loss = valid_loss / len(valid_loader.sampler)\n",
        "\n",
        "\n",
        "  total_train_loss.append(train_loss / len(train_loader.sampler))\n",
        "  total_valid_loss.append(valid_loss / len(valid_loader.sampler))\n",
        "\n",
        "  print(\"Epoch: {}, \\tTraining Loss: {:.4f},    \\tValidation Loss: {:.4f}\".format(e + 1 , train_loss, valid_loss))\n",
        "\n",
        "\n",
        "  # saving model\n",
        "  if valid_loss <= valid_loss_min:\n",
        "    print(\"Validation Loss Decreased ({:.6f} ----> {:.6f}). Saving Model........ \".format(valid_loss_min , valid_loss))\n",
        "\n",
        "    torch.save(vgg.state_dict(), \"drive/My Drive/dataset/weather_model.pt\")\n",
        "    valid_loss_min = valid_loss  \n"
      ],
      "execution_count": 17,
      "outputs": [
        {
          "output_type": "stream",
          "text": [
            "Step 0  \tTraining Loss: 12.2976\n",
            "Step 5  \tTraining Loss: 71.3027\n",
            "Step 10  \tTraining Loss: 122.7283\n",
            "Step 15  \tTraining Loss: 170.3233\n",
            "Step 20  \tTraining Loss: 228.7605\n",
            "Step 25  \tTraining Loss: 271.8501\n",
            "Step 30  \tTraining Loss: 318.1307\n",
            "Step 35  \tTraining Loss: 364.2923\n",
            "Epoch: 1, \tTraining Loss: 0.3152,    \tValidation Loss: 0.3205\n",
            "Validation Loss Decreased (inf ----> 0.320497). Saving Model........ \n",
            "Step 40  \tTraining Loss: 30.1412\n",
            "Step 45  \tTraining Loss: 70.1733\n",
            "Step 50  \tTraining Loss: 112.4475\n",
            "Step 55  \tTraining Loss: 150.1085\n",
            "Step 60  \tTraining Loss: 195.7974\n",
            "Step 65  \tTraining Loss: 234.1305\n",
            "Step 70  \tTraining Loss: 272.3553\n",
            "Step 75  \tTraining Loss: 305.4032\n",
            "Epoch: 2, \tTraining Loss: 0.2545,    \tValidation Loss: 0.2682\n",
            "Validation Loss Decreased (0.320497 ----> 0.268198). Saving Model........ \n",
            "Step 80  \tTraining Loss: 41.8869\n",
            "Step 85  \tTraining Loss: 88.4175\n",
            "Step 90  \tTraining Loss: 125.5027\n",
            "Step 95  \tTraining Loss: 151.1063\n",
            "Step 100  \tTraining Loss: 187.4018\n",
            "Step 105  \tTraining Loss: 217.2960\n",
            "Step 110  \tTraining Loss: 250.4909\n",
            "Epoch: 3, \tTraining Loss: 0.2238,    \tValidation Loss: 0.2761\n",
            "Step 115  \tTraining Loss: 14.5802\n",
            "Step 120  \tTraining Loss: 47.6872\n",
            "Step 125  \tTraining Loss: 81.0435\n",
            "Step 130  \tTraining Loss: 112.0105\n",
            "Step 135  \tTraining Loss: 146.3188\n",
            "Step 140  \tTraining Loss: 172.4589\n",
            "Step 145  \tTraining Loss: 216.3806\n",
            "Step 150  \tTraining Loss: 249.6398\n",
            "Epoch: 4, \tTraining Loss: 0.2108,    \tValidation Loss: 0.2445\n",
            "Validation Loss Decreased (0.268198 ----> 0.244499). Saving Model........ \n",
            "Step 155  \tTraining Loss: 21.2890\n",
            "Step 160  \tTraining Loss: 43.9069\n",
            "Step 165  \tTraining Loss: 69.0071\n",
            "Step 170  \tTraining Loss: 91.2819\n",
            "Step 175  \tTraining Loss: 134.7770\n",
            "Step 180  \tTraining Loss: 171.4937\n",
            "Step 185  \tTraining Loss: 203.1546\n",
            "Epoch: 5, \tTraining Loss: 0.1857,    \tValidation Loss: 0.2322\n",
            "Validation Loss Decreased (0.244499 ----> 0.232222). Saving Model........ \n"
          ],
          "name": "stdout"
        }
      ]
    },
    {
      "cell_type": "code",
      "metadata": {
        "id": "0HQAVTmYvbmc",
        "colab_type": "code",
        "colab": {
          "base_uri": "https://localhost:8080/",
          "height": 34
        },
        "outputId": "34d62e64-f64c-4f98-f3e2-36e2de24cc1c"
      },
      "source": [
        "# Load Modlel\n",
        "vgg.load_state_dict(torch.load(\"drive/My Drive/dataset/weather_model.pt\"))"
      ],
      "execution_count": 19,
      "outputs": [
        {
          "output_type": "execute_result",
          "data": {
            "text/plain": [
              "<All keys matched successfully>"
            ]
          },
          "metadata": {
            "tags": []
          },
          "execution_count": 19
        }
      ]
    },
    {
      "cell_type": "code",
      "metadata": {
        "id": "ZpD5V5AfKYQ0",
        "colab_type": "code",
        "colab": {}
      },
      "source": [
        "test_transform = transforms.Compose([transforms.RandomResizedCrop(224),\n",
        "                                      transforms.RandomHorizontalFlip(),\n",
        "\t\t\t\t\t\t\t\t\t                    transforms.ToTensor(),\n",
        "                                      transforms.Normalize((0.5, 0.5, 0.5), (0.5, 0.5, 0.5))])\n",
        "\n",
        "\n",
        "\n",
        "test_data = datasets.ImageFolder(\"drive/My Drive/dataset/test\" , transform= test_transform)"
      ],
      "execution_count": 0,
      "outputs": []
    },
    {
      "cell_type": "code",
      "metadata": {
        "id": "yBLnSL87LAsM",
        "colab_type": "code",
        "colab": {}
      },
      "source": [
        "test_loader = torch.utils.data.DataLoader(test_data, batch_size= 32)\n"
      ],
      "execution_count": 0,
      "outputs": []
    },
    {
      "cell_type": "code",
      "metadata": {
        "id": "WBlU0kXcLT3q",
        "colab_type": "code",
        "colab": {
          "base_uri": "https://localhost:8080/",
          "height": 34
        },
        "outputId": "5ce21ed3-f2af-452a-891e-cff1d801c506"
      },
      "source": [
        "import pandas as pd\n",
        "\n",
        "dl = pd.read_csv(\"drive/My Drive/dataset/test.csv\")\n",
        "\n",
        "test_label = dl[\"labels\"]\n",
        "\n",
        "test_label = torch.tensor(test_label)\n",
        "type(test_label)"
      ],
      "execution_count": 66,
      "outputs": [
        {
          "output_type": "execute_result",
          "data": {
            "text/plain": [
              "torch.Tensor"
            ]
          },
          "metadata": {
            "tags": []
          },
          "execution_count": 66
        }
      ]
    },
    {
      "cell_type": "code",
      "metadata": {
        "id": "7NG4AtKHGduR",
        "colab_type": "code",
        "colab": {
          "base_uri": "https://localhost:8080/",
          "height": 34
        },
        "outputId": "062b379e-172f-41a7-88d5-87f22c7fbd87"
      },
      "source": [
        "test_loss = 0.0\n",
        "cls_correct = 0\n",
        "\n",
        "\n",
        "vgg.eval()\n",
        "\n",
        "for data in test_loader:\n",
        "\n",
        "  img, _ = data\n",
        "\n",
        "  output = vgg(img)\n",
        "\n",
        "  loss = criterion(output, test_label)\n",
        "\n",
        "  test_loss += loss.item()*img.size(0)\n",
        "\n",
        "  _, pred = torch.max(output, 1)\n",
        "\n",
        "  pred = pred.numpy()\n",
        "\n",
        "  for i in range(len(pred)):\n",
        "    if test_label[i] == pred[i]:\n",
        "      cls_correct += 1\n",
        "\n",
        "test_loss = test_loss / len(test_loader)\n",
        "\n",
        "acc = 100 * (cls_correct / len(test_label))\n",
        "\n",
        "print(\"Accuracy: {}\".format(acc))"
      ],
      "execution_count": 67,
      "outputs": [
        {
          "output_type": "stream",
          "text": [
            "Accuracy: 90.0\n"
          ],
          "name": "stdout"
        }
      ]
    },
    {
      "cell_type": "code",
      "metadata": {
        "id": "zj9LBIMiN-uE",
        "colab_type": "code",
        "colab": {}
      },
      "source": [
        "img, _ = data"
      ],
      "execution_count": 0,
      "outputs": []
    },
    {
      "cell_type": "code",
      "metadata": {
        "id": "MfY4pBXiTEyo",
        "colab_type": "code",
        "colab": {}
      },
      "source": [
        "cr = 0\n",
        "for i in range(len(label)):\n",
        "  if label[i] == prediction[i]:\n",
        "    cr += 1"
      ],
      "execution_count": 0,
      "outputs": []
    },
    {
      "cell_type": "code",
      "metadata": {
        "id": "JmmAWKxOT1SF",
        "colab_type": "code",
        "colab": {}
      },
      "source": [
        ""
      ],
      "execution_count": 0,
      "outputs": []
    }
  ]
}